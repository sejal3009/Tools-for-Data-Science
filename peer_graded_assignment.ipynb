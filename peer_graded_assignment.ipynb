{
  "metadata": {
    "language_info": {
      "codemirror_mode": {
        "name": "python",
        "version": 3
      },
      "file_extension": ".py",
      "mimetype": "text/x-python",
      "name": "python",
      "nbconvert_exporter": "python",
      "pygments_lexer": "ipython3",
      "version": "3.8"
    },
    "kernelspec": {
      "name": "python",
      "display_name": "Pyolite",
      "language": "python"
    }
  },
  "nbformat_minor": 4,
  "nbformat": 4,
  "cells": [
    {
      "cell_type": "markdown",
      "source": "<h1>My Jupyter Notebook on IBM Watson Studio</h1>",
      "metadata": {}
    },
    {
      "cell_type": "markdown",
      "source": "**Sejal Sudhir Pathak**<br>\nDesired occupation:- Data Scientist\n",
      "metadata": {}
    },
    {
      "cell_type": "markdown",
      "source": "*I am interested in data science because of the following reasons:*<br>\n\n*I love telling stories with data and using data to help bring that data to life. As a data scientist I can turn seemingly meaningless data into a recommendation to help a company improve its product, services, or experiences. This can help a business grow or get more clients.*<br>\n*Data science can be usefull in development of various industries such as manufactring, sports, health etc.Personally I am intrested in health industry because a corect early diagnosis of a person can save a life!!*\n",
      "metadata": {}
    },
    {
      "cell_type": "markdown",
      "source": "<h3> Code below is to find the perimeter of square.</h3>",
      "metadata": {}
    },
    {
      "cell_type": "code",
      "source": "def perimeter_of_square(a):\n    perimeter = 4*int(a)\n    print(\"perimetr of square is\",perimeter)\n    \nperimeter_of_square(4)\n",
      "metadata": {
        "trusted": true
      },
      "execution_count": 1,
      "outputs": [
        {
          "name": "stdout",
          "text": "perimetr of square is 16\n",
          "output_type": "stream"
        }
      ]
    },
    {
      "cell_type": "markdown",
      "source": "**Horizontal rule**<br>\nPython<br>\n***\nWatson studio<br>\n***\nJupyter Notebook<br>\n***\n<br>\n<br>\n**Bulleted List**<br>\n-  One\n-  Two\n-  Three\n<br><br>\n\n**Numbered list**<br>\n1. First<br>\n1. Second<br>\n<br><br>\n**Tables**<br>\n<table>\n    <tr>\n        <th>NO</th>\n        <th>TYPES OF DATA</th>\n        <th>EXAMPLE</th>\n    </tr>\n    \n   <tr>\n       <td>1</td>\n       <td>Structured data</td>\n       <td>DBMS</td>\n    </tr>\n    <tr>\n        <td>2</td>\n        <td>Semi-structured data</td>\n        <td>XML data<td>\n    </tr>\n    <tr>\n        <td>3</td>\n        <td>Unstructured data</td>\n        <td>pdf</td>\n    </tr>\n</table>\n        \n<br><br>\n**Hyperlink**<br>\nhttps://www.coursera.org/\n<br>\nhttps://www.w3schools.com/\n<br>\nhttps://www.wikipedia.org/\n\n<br>\n\n**Image**<br><br>\n![alt text](https://github.com/adam-p/markdown-here/raw/master/src/common/images/icon48.png \"Logo Title Text 1\")\n\n**Code/Syntax Highlighting**\n ```python\nimport numpy as np\nimport matplotlib.pyplot as plt\ntheta = np.linspace(-np.pi,np.pi,50)\nS = np.sin(theta)\nplt.plot(theta,S)\nplt.grid()\nplt.show()\n```\n\n**BlockQuotes**<br>\n>The data that contains greater variety, arriving in increasing volumes and with more velocity can be defined as a \"Big Data\"\n\n**Strikethrough** <br>\n~~This is strike data~~\n\n",
      "metadata": {}
    }
  ]
}